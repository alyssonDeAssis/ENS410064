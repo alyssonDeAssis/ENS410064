{
 "cells": [
  {
   "cell_type": "code",
   "execution_count": 15,
   "id": "ffa88489-da44-49c0-9504-69e05cdc4a07",
   "metadata": {},
   "outputs": [],
   "source": [
    "import pandas as pd\n",
    "from datetime import datetime\n"
   ]
  },
  {
   "cell_type": "code",
   "execution_count": 57,
   "id": "cea5fa5f-8713-4939-9d02-debe3173a29f",
   "metadata": {},
   "outputs": [
    {
     "name": "stderr",
     "output_type": "stream",
     "text": [
      "C:\\Users\\alysson.assis\\AppData\\Local\\Temp\\ipykernel_24052\\1145516960.py:9: SettingWithCopyWarning: \n",
      "A value is trying to be set on a copy of a slice from a DataFrame.\n",
      "Try using .loc[row_indexer,col_indexer] = value instead\n",
      "\n",
      "See the caveats in the documentation: https://pandas.pydata.org/pandas-docs/stable/user_guide/indexing.html#returning-a-view-versus-a-copy\n",
      "  novo_df['Maxima'] = df['Maxima'].str.replace(',', '.')\n",
      "C:\\Users\\alysson.assis\\AppData\\Local\\Temp\\ipykernel_24052\\1145516960.py:11: SettingWithCopyWarning: \n",
      "A value is trying to be set on a copy of a slice from a DataFrame.\n",
      "Try using .loc[row_indexer,col_indexer] = value instead\n",
      "\n",
      "See the caveats in the documentation: https://pandas.pydata.org/pandas-docs/stable/user_guide/indexing.html#returning-a-view-versus-a-copy\n",
      "  novo_df['Maxima'] = novo_df['Maxima'].astype(float)\n"
     ]
    },
    {
     "data": {
      "text/html": [
       "<div>\n",
       "<style scoped>\n",
       "    .dataframe tbody tr th:only-of-type {\n",
       "        vertical-align: middle;\n",
       "    }\n",
       "\n",
       "    .dataframe tbody tr th {\n",
       "        vertical-align: top;\n",
       "    }\n",
       "\n",
       "    .dataframe thead th {\n",
       "        text-align: right;\n",
       "    }\n",
       "</style>\n",
       "<table border=\"1\" class=\"dataframe\">\n",
       "  <thead>\n",
       "    <tr style=\"text-align: right;\">\n",
       "      <th></th>\n",
       "      <th>Maxima</th>\n",
       "    </tr>\n",
       "  </thead>\n",
       "  <tbody>\n",
       "    <tr>\n",
       "      <th>count</th>\n",
       "      <td>137.000000</td>\n",
       "    </tr>\n",
       "    <tr>\n",
       "      <th>mean</th>\n",
       "      <td>45.964964</td>\n",
       "    </tr>\n",
       "    <tr>\n",
       "      <th>std</th>\n",
       "      <td>33.626953</td>\n",
       "    </tr>\n",
       "    <tr>\n",
       "      <th>min</th>\n",
       "      <td>7.000000</td>\n",
       "    </tr>\n",
       "    <tr>\n",
       "      <th>25%</th>\n",
       "      <td>23.000000</td>\n",
       "    </tr>\n",
       "    <tr>\n",
       "      <th>50%</th>\n",
       "      <td>37.700000</td>\n",
       "    </tr>\n",
       "    <tr>\n",
       "      <th>75%</th>\n",
       "      <td>53.900000</td>\n",
       "    </tr>\n",
       "    <tr>\n",
       "      <th>max</th>\n",
       "      <td>204.600000</td>\n",
       "    </tr>\n",
       "  </tbody>\n",
       "</table>\n",
       "</div>"
      ],
      "text/plain": [
       "           Maxima\n",
       "count  137.000000\n",
       "mean    45.964964\n",
       "std     33.626953\n",
       "min      7.000000\n",
       "25%     23.000000\n",
       "50%     37.700000\n",
       "75%     53.900000\n",
       "max    204.600000"
      ]
     },
     "execution_count": 57,
     "metadata": {},
     "output_type": "execute_result"
    }
   ],
   "source": [
    "# Carregar os dados do arquivo .txt\n",
    "arquivo_txt = \"C:\\\\Users\\\\alysson.assis\\\\OneDrive - ARAXA\\\\Documentos\\\\Tópicos especiais-Python in Environmental Applications\\\\2748013_Chuvas_mod.txt\"  # nome do arquivo de entrada\n",
    "df = pd.read_csv(arquivo_txt, delimiter=';')\n",
    "\n",
    "#df = df.drop(columns=['coluna', 'coluna2'], inplace=True)\n",
    "#df=df['Data']\n",
    "novo_df = df[['Data', 'Maxima']]\n",
    "# Substituir vírgulas por pontos\n",
    "novo_df['Maxima'] = df['Maxima'].str.replace(',', '.')\n",
    "# Converter para float\n",
    "novo_df['Maxima'] = novo_df['Maxima'].astype(float)\n",
    "novo_df.describe()"
   ]
  },
  {
   "cell_type": "code",
   "execution_count": 59,
   "id": "f54fb95e-743d-4c5e-873b-88c9aaf5759a",
   "metadata": {},
   "outputs": [
    {
     "name": "stdout",
     "output_type": "stream",
     "text": [
      "mean 45.964963503649635\n",
      "std 33.62695345570118\n",
      "number_elements 137\n"
     ]
    }
   ],
   "source": [
    "mean = novo_df['Maxima'].mean()\n",
    "std = novo_df['Maxima'].std()\n",
    "number_elements = len(novo_df['Maxima'])\n",
    "print('mean',mean)\n",
    "print('std', std)\n",
    "print('number_elements', number_elements)"
   ]
  },
  {
   "cell_type": "code",
   "execution_count": 60,
   "id": "1121056f-8d64-417d-9a43-b6edec5954a2",
   "metadata": {},
   "outputs": [],
   "source": [
    "#!pip install matplotlib"
   ]
  },
  {
   "cell_type": "code",
   "execution_count": 64,
   "id": "23e87d95-5e5f-4080-bdb7-885c0d9bdd44",
   "metadata": {},
   "outputs": [],
   "source": [
    "# Filtrando dados válidos de SO2, para a estação BA_010.\n",
    "novo_df = novo_df.loc[\n",
    "    (novo_df['Data'] >= '01/06/82') # Filtrando apenas dados após anos 80\n",
    "]"
   ]
  },
  {
   "cell_type": "code",
   "execution_count": 65,
   "id": "166e8be5-5be4-4e34-9c92-b9fa3a1127f1",
   "metadata": {},
   "outputs": [
    {
     "data": {
      "text/html": [
       "<div>\n",
       "<style scoped>\n",
       "    .dataframe tbody tr th:only-of-type {\n",
       "        vertical-align: middle;\n",
       "    }\n",
       "\n",
       "    .dataframe tbody tr th {\n",
       "        vertical-align: top;\n",
       "    }\n",
       "\n",
       "    .dataframe thead th {\n",
       "        text-align: right;\n",
       "    }\n",
       "</style>\n",
       "<table border=\"1\" class=\"dataframe\">\n",
       "  <thead>\n",
       "    <tr style=\"text-align: right;\">\n",
       "      <th></th>\n",
       "      <th>Data</th>\n",
       "      <th>Maxima</th>\n",
       "    </tr>\n",
       "  </thead>\n",
       "  <tbody>\n",
       "    <tr>\n",
       "      <th>5</th>\n",
       "      <td>01/12/1981</td>\n",
       "      <td>39.6</td>\n",
       "    </tr>\n",
       "    <tr>\n",
       "      <th>6</th>\n",
       "      <td>01/11/1981</td>\n",
       "      <td>23.2</td>\n",
       "    </tr>\n",
       "    <tr>\n",
       "      <th>7</th>\n",
       "      <td>01/10/1981</td>\n",
       "      <td>36.3</td>\n",
       "    </tr>\n",
       "    <tr>\n",
       "      <th>8</th>\n",
       "      <td>01/09/1981</td>\n",
       "      <td>15.6</td>\n",
       "    </tr>\n",
       "    <tr>\n",
       "      <th>9</th>\n",
       "      <td>01/08/1981</td>\n",
       "      <td>27.7</td>\n",
       "    </tr>\n",
       "    <tr>\n",
       "      <th>...</th>\n",
       "      <td>...</td>\n",
       "      <td>...</td>\n",
       "    </tr>\n",
       "    <tr>\n",
       "      <th>126</th>\n",
       "      <td>01/11/1971</td>\n",
       "      <td>73.4</td>\n",
       "    </tr>\n",
       "    <tr>\n",
       "      <th>127</th>\n",
       "      <td>01/10/1971</td>\n",
       "      <td>16.4</td>\n",
       "    </tr>\n",
       "    <tr>\n",
       "      <th>128</th>\n",
       "      <td>01/09/1971</td>\n",
       "      <td>37.2</td>\n",
       "    </tr>\n",
       "    <tr>\n",
       "      <th>129</th>\n",
       "      <td>01/08/1971</td>\n",
       "      <td>16.3</td>\n",
       "    </tr>\n",
       "    <tr>\n",
       "      <th>130</th>\n",
       "      <td>01/07/1971</td>\n",
       "      <td>18.7</td>\n",
       "    </tr>\n",
       "  </tbody>\n",
       "</table>\n",
       "<p>66 rows × 2 columns</p>\n",
       "</div>"
      ],
      "text/plain": [
       "           Data  Maxima\n",
       "5    01/12/1981    39.6\n",
       "6    01/11/1981    23.2\n",
       "7    01/10/1981    36.3\n",
       "8    01/09/1981    15.6\n",
       "9    01/08/1981    27.7\n",
       "..          ...     ...\n",
       "126  01/11/1971    73.4\n",
       "127  01/10/1971    16.4\n",
       "128  01/09/1971    37.2\n",
       "129  01/08/1971    16.3\n",
       "130  01/07/1971    18.7\n",
       "\n",
       "[66 rows x 2 columns]"
      ]
     },
     "execution_count": 65,
     "metadata": {},
     "output_type": "execute_result"
    }
   ],
   "source": [
    "novo_df"
   ]
  },
  {
   "cell_type": "code",
   "execution_count": 66,
   "id": "c3eca556-0b4e-4afa-a9b5-6606ea741946",
   "metadata": {},
   "outputs": [
    {
     "data": {
      "image/png": "[encoded data removed]",
      "text/plain": [
       "<Figure size 640x480 with 1 Axes>"
      ]
     },
     "metadata": {},
     "output_type": "display_data"
    }
   ],
   "source": [
    "import matplotlib.pyplot as plt\n",
    "\n",
    "# Dados de exemplo\n",
    "x = novo_df['Data'].tolist()\n",
    "y = novo_df['Maxima'].tolist()\n",
    "\n",
    "# Criar o gráfico de linhas\n",
    "plt.plot(x, y, marker='o', linestyle='-', color='b')\n",
    "\n",
    "# Títulos e rótulos\n",
    "plt.title('Data x Máxima Chuva')\n",
    "plt.xlabel('Data')\n",
    "plt.ylabel('Máxima Chuva')\n",
    "\n",
    "# Exibir o gráfico\n",
    "plt.grid(True)  # Adicionar grades ao gráfico\n",
    "plt.show()\n"
   ]
  },
  {
   "cell_type": "code",
   "execution_count": null,
   "id": "39afc5c3-085d-4735-8c85-eb485e1fb3a9",
   "metadata": {},
   "outputs": [],
   "source": []
  },
  {
   "cell_type": "code",
   "execution_count": null,
   "id": "25d4754b-17b4-4b42-a4e6-f86b203f94af",
   "metadata": {},
   "outputs": [],
   "source": []
  },
  {
   "cell_type": "code",
   "execution_count": null,
   "id": "ad0ec00a-c45d-4332-b3ca-9210f7dd7d21",
   "metadata": {},
   "outputs": [],
   "source": []
  },
  {
   "cell_type": "code",
   "execution_count": null,
   "id": "3d184bfe-6dc4-4b2a-b4f7-850ee5a4fba1",
   "metadata": {},
   "outputs": [],
   "source": []
  },
  {
   "cell_type": "code",
   "execution_count": null,
   "id": "c1d91403-2be3-42ae-932c-11b59f69e3d2",
   "metadata": {},
   "outputs": [],
   "source": [
    "# Importando patches para adicionar item de legenda\n",
    "import matplotlib.patches as mpatches\n",
    "\n",
    "# Potando dados válidos e adicionando o eixo de plotagem a uma variável\n",
    "ax = novo_df['Data'].plot(ylabel='Concentração de SO2')\n",
    "\n",
    "# Plotando a área do desvio padrão\n",
    "mean = filtred_so2_df['Valor'].mean()\n",
    "std = filtred_so2_df['Valor'].std()\n",
    "number_elements = len(filtred_so2_df['Valor'])\n",
    "\n",
    "ax.fill_between(\n",
    "    filtred_so2_df.index, number_elements * [mean - std], number_elements * [mean + std],\n",
    "    color='green', alpha=.2)\n",
    "\n",
    "# Pegando um valor médio\n",
    "mean_df = filtred_so2_df[['Valor']].copy()\n",
    "mean_df.loc[:, 'Mean'] = mean\n",
    "mean_df = mean_df[['Mean']]\n",
    "mean_df.plot(ax=ax)\n",
    "\n",
    "# Adicionando Standard Deviation na legenda\n",
    "std_legend = mpatches.Patch(color='green', alpha=.2)\n",
    "handles, labels = ax.get_legend_handles_labels()\n",
    "handles.append(std_legend)\n",
    "labels.append('Standard Deviation')\n",
    "ax.legend(handles, labels)"
   ]
  },
  {
   "cell_type": "code",
   "execution_count": null,
   "id": "1a4245c1-15dd-4d14-a9b3-3aaacba41e67",
   "metadata": {},
   "outputs": [],
   "source": []
  },
  {
   "cell_type": "code",
   "execution_count": 29,
   "id": "c2e3c5cf-9894-45a8-927e-3c62304f050e",
   "metadata": {},
   "outputs": [
    {
     "data": {
      "text/html": [
       "<div>\n",
       "<style scoped>\n",
       "    .dataframe tbody tr th:only-of-type {\n",
       "        vertical-align: middle;\n",
       "    }\n",
       "\n",
       "    .dataframe tbody tr th {\n",
       "        vertical-align: top;\n",
       "    }\n",
       "\n",
       "    .dataframe thead th {\n",
       "        text-align: right;\n",
       "    }\n",
       "</style>\n",
       "<table border=\"1\" class=\"dataframe\">\n",
       "  <thead>\n",
       "    <tr style=\"text-align: right;\">\n",
       "      <th></th>\n",
       "      <th>Data</th>\n",
       "      <th>Maxima</th>\n",
       "    </tr>\n",
       "  </thead>\n",
       "  <tbody>\n",
       "  </tbody>\n",
       "</table>\n",
       "</div>"
      ],
      "text/plain": [
       "Empty DataFrame\n",
       "Columns: [Data, Maxima]\n",
       "Index: []"
      ]
     },
     "execution_count": 29,
     "metadata": {},
     "output_type": "execute_result"
    }
   ],
   "source": [
    "# Filtrando dados válidos de SO2, para a estação BA_010.\n",
    "# Para tornar didática a visualização, vamos manter somente valores abaixo de 150\n",
    "filtred_df = df.loc[\n",
    "    (df['Data'] == 'Data') & # Filtrando apenas poluentes em SO2\n",
    "    (df['Maxima'] == 'Maxima')] # Filtrando apenas poluentes em SO2]\n",
    "#    (df['Valor'] >= 0) &         # Filtrando apenas valores maiores que 0\n",
    "#    (df['Valor'] <= 150)         # Filtrando apenas valores menores que 150, para fins didáticos\n",
    "#]\n",
    "\n",
    "# Formatando data e adicionando ao índice\n",
    "#filtred_so2_df.loc[:, 'Date'] = df[['Ano', 'Mes', 'Dia', 'Hora', 'Minuto']].apply(lambda x: datetime(x['Ano'], x['Mes'], x['Dia'], x['Hora'], x['Minuto']), axis=1)\n",
    "\n",
    "# Colocando a coluna \"Data\" como índice\n",
    "#filtred_df = filtred_df.set_index('Data')\n",
    "\n",
    "# Selecionando somente os dados importantes para minha análise\n",
    "filtred_df = filtred_df[['Data', 'Maxima']]\n",
    "filtred_df"
   ]
  },
  {
   "cell_type": "code",
   "execution_count": 13,
   "id": "0e159ee2-4ca4-4a17-a733-776a07cdad51",
   "metadata": {},
   "outputs": [
    {
     "ename": "NameError",
     "evalue": "name 'filtred_so2_df' is not defined",
     "output_type": "error",
     "traceback": [
      "\u001b[1;31m---------------------------------------------------------------------------\u001b[0m",
      "\u001b[1;31mNameError\u001b[0m                                 Traceback (most recent call last)",
      "Cell \u001b[1;32mIn[13], line 2\u001b[0m\n\u001b[0;32m      1\u001b[0m \u001b[38;5;66;03m# Obtendo estatísticas\u001b[39;00m\n\u001b[1;32m----> 2\u001b[0m \u001b[43mfiltred_so2_df\u001b[49m\u001b[38;5;241m.\u001b[39mdescribe()\n",
      "\u001b[1;31mNameError\u001b[0m: name 'filtred_so2_df' is not defined"
     ]
    }
   ],
   "source": [
    "# Obtendo estatísticas\n",
    "filtred_so2_df.describe()"
   ]
  },
  {
   "cell_type": "code",
   "execution_count": 14,
   "id": "fc0b1f05-d7a0-4179-a7b8-c58d3bfef7a1",
   "metadata": {},
   "outputs": [
    {
     "name": "stdout",
     "output_type": "stream",
     "text": [
      "Collecting matplotlib\n",
      "  Downloading matplotlib-3.9.2-cp310-cp310-win_amd64.whl (7.8 MB)\n",
      "     ---------------------------------------- 7.8/7.8 MB 2.2 MB/s eta 0:00:00\n",
      "Collecting contourpy>=1.0.1\n",
      "  Downloading contourpy-1.3.0-cp310-cp310-win_amd64.whl (216 kB)\n",
      "     -------------------------------------- 216.0/216.0 kB 1.9 MB/s eta 0:00:00\n",
      "Collecting pillow>=8\n",
      "  Downloading pillow-10.4.0-cp310-cp310-win_amd64.whl (2.6 MB)\n",
      "     ---------------------------------------- 2.6/2.6 MB 1.6 MB/s eta 0:00:00\n",
      "Collecting cycler>=0.10\n",
      "  Downloading cycler-0.12.1-py3-none-any.whl (8.3 kB)\n",
      "Requirement already satisfied: numpy>=1.23 in c:\\users\\alysson.assis\\onedrive - araxa\\documentos\\tópicos especiais-python in environmental applications\\ens410064\\pyenv\\lib\\site-packages (from matplotlib) (2.1.1)\n",
      "Requirement already satisfied: python-dateutil>=2.7 in c:\\users\\alysson.assis\\onedrive - araxa\\documentos\\tópicos especiais-python in environmental applications\\ens410064\\pyenv\\lib\\site-packages (from matplotlib) (2.9.0.post0)\n",
      "Requirement already satisfied: packaging>=20.0 in c:\\users\\alysson.assis\\onedrive - araxa\\documentos\\tópicos especiais-python in environmental applications\\ens410064\\pyenv\\lib\\site-packages (from matplotlib) (24.1)\n",
      "Collecting kiwisolver>=1.3.1\n",
      "  Downloading kiwisolver-1.4.7-cp310-cp310-win_amd64.whl (55 kB)\n",
      "     ---------------------------------------- 55.9/55.9 kB 3.0 MB/s eta 0:00:00\n",
      "Collecting pyparsing>=2.3.1\n",
      "  Downloading pyparsing-3.1.4-py3-none-any.whl (104 kB)\n",
      "     -------------------------------------- 104.1/104.1 kB 2.0 MB/s eta 0:00:00\n",
      "Collecting fonttools>=4.22.0\n",
      "  Downloading fonttools-4.54.1-cp310-cp310-win_amd64.whl (2.2 MB)\n",
      "     ---------------------------------------- 2.2/2.2 MB 1.0 MB/s eta 0:00:00\n",
      "Requirement already satisfied: six>=1.5 in c:\\users\\alysson.assis\\onedrive - araxa\\documentos\\tópicos especiais-python in environmental applications\\ens410064\\pyenv\\lib\\site-packages (from python-dateutil>=2.7->matplotlib) (1.16.0)\n",
      "Installing collected packages: pyparsing, pillow, kiwisolver, fonttools, cycler, contourpy, matplotlib\n",
      "Successfully installed contourpy-1.3.0 cycler-0.12.1 fonttools-4.54.1 kiwisolver-1.4.7 matplotlib-3.9.2 pillow-10.4.0 pyparsing-3.1.4\n"
     ]
    },
    {
     "name": "stderr",
     "output_type": "stream",
     "text": [
      "\n",
      "[notice] A new release of pip available: 22.3.1 -> 24.2\n",
      "[notice] To update, run: python.exe -m pip install --upgrade pip\n"
     ]
    }
   ],
   "source": [
    "!pip install matplotlib"
   ]
  },
  {
   "cell_type": "code",
   "execution_count": null,
   "id": "757869e8-270a-48a7-b7fd-31f89116706a",
   "metadata": {},
   "outputs": [],
   "source": [
    "# Importando patches para adicionar item de legenda\n",
    "import matplotlib.patches as mpatches\n",
    "\n",
    "# Potando dados válidos e adicionando o eixo de plotagem a uma variável\n",
    "ax = filtred_so2_df['Valor'].plot(ylabel='Concentração de SO2')\n",
    "\n",
    "# Plotando a área do desvio padrão\n",
    "mean = filtred_so2_df['Valor'].mean()\n",
    "std = filtred_so2_df['Valor'].std()\n",
    "number_elements = len(filtred_so2_df['Valor'])\n",
    "\n",
    "ax.fill_between(\n",
    "    filtred_so2_df.index, number_elements * [mean - std], number_elements * [mean + std],\n",
    "    color='green', alpha=.2)\n",
    "\n",
    "# Pegando um valor médio\n",
    "mean_df = filtred_so2_df[['Valor']].copy()\n",
    "mean_df.loc[:, 'Mean'] = mean\n",
    "mean_df = mean_df[['Mean']]\n",
    "mean_df.plot(ax=ax)\n",
    "\n",
    "# Adicionando Standard Deviation na legenda\n",
    "std_legend = mpatches.Patch(color='green', alpha=.2)\n",
    "handles, labels = ax.get_legend_handles_labels()\n",
    "handles.append(std_legend)\n",
    "labels.append('Standard Deviation')\n",
    "ax.legend(handles, labels)"
   ]
  },
  {
   "cell_type": "code",
   "execution_count": null,
   "id": "316f6897-595e-42bc-b0b8-5ce160332fd4",
   "metadata": {},
   "outputs": [],
   "source": []
  }
 ],
 "metadata": {
  "kernelspec": {
   "display_name": "Python 3 (ipykernel)",
   "language": "python",
   "name": "python3"
  },
  "language_info": {
   "codemirror_mode": {
    "name": "ipython",
    "version": 3
   },
   "file_extension": ".py",
   "mimetype": "text/x-python",
   "name": "python",
   "nbconvert_exporter": "python",
   "pygments_lexer": "ipython3",
   "version": "3.10.9"
  }
 },
 "nbformat": 4,
 "nbformat_minor": 5
}
