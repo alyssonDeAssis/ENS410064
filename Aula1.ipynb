{
 "cells": [
  {
   "cell_type": "code",
   "execution_count": 5,
   "id": "c1590efb-241b-4463-9e10-eeadf8ea63fa",
   "metadata": {},
   "outputs": [],
   "source": [
    "from math import*"
   ]
  },
  {
   "cell_type": "code",
   "execution_count": 10,
   "id": "18bb77a2-8b6e-4427-aaff-83d44e7c7788",
   "metadata": {},
   "outputs": [
    {
     "name": "stdout",
     "output_type": "stream",
     "text": [
      "a = [0, 18, 36, 54, 72]\n",
      "b = [0.0, 0.3090169943749474, 0.5877852522924731, 0.8090169943749475, 0.9510565162951535]\n"
     ]
    }
   ],
   "source": [
    "a=[0,0,0,0,0]\n",
    "b=[0] * len(a)\n",
    "for i in range(len(a)):\n",
    "    a[i]=i*18\n",
    "    b[i]=sin(radians(a[i]))\n",
    "\n",
    "print(\"a =\",a)\n",
    "print(\"b =\",b)"
   ]
  },
  {
   "cell_type": "code",
   "execution_count": null,
   "id": "ac542b76-05cc-44d6-a869-d833d3c99afb",
   "metadata": {},
   "outputs": [],
   "source": []
  }
 ],
 "metadata": {
  "kernelspec": {
   "display_name": "Python 3 (ipykernel)",
   "language": "python",
   "name": "python3"
  },
  "language_info": {
   "codemirror_mode": {
    "name": "ipython",
    "version": 3
   },
   "file_extension": ".py",
   "mimetype": "text/x-python",
   "name": "python",
   "nbconvert_exporter": "python",
   "pygments_lexer": "ipython3",
   "version": "3.10.9"
  }
 },
 "nbformat": 4,
 "nbformat_minor": 5
}
